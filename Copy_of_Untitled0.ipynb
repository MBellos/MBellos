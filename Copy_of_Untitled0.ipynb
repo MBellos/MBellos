{
  "nbformat": 4,
  "nbformat_minor": 0,
  "metadata": {
    "colab": {
      "provenance": [],
      "authorship_tag": "ABX9TyM8RPRxGQNWo68ngVwLzXg7"
    },
    "kernelspec": {
      "name": "python3",
      "display_name": "Python 3"
    },
    "language_info": {
      "name": "python"
    }
  },
  "cells": [
    {
      "cell_type": "code",
      "execution_count": null,
      "metadata": {
        "colab": {
          "base_uri": "https://localhost:8080/",
          "height": 211
        },
        "id": "I9i89RoNUv08",
        "outputId": "14ab867d-0729-4875-ae9b-d583e1e74d2c"
      },
      "outputs": [
        {
          "output_type": "error",
          "ename": "NameError",
          "evalue": "name 'pd' is not defined",
          "traceback": [
            "\u001b[0;31m---------------------------------------------------------------------------\u001b[0m",
            "\u001b[0;31mNameError\u001b[0m                                 Traceback (most recent call last)",
            "\u001b[0;32m<ipython-input-1-e8503ba9597d>\u001b[0m in \u001b[0;36m<cell line: 0>\u001b[0;34m()\u001b[0m\n\u001b[0;32m----> 1\u001b[0;31m \u001b[0mdf\u001b[0m \u001b[0;34m=\u001b[0m \u001b[0mpd\u001b[0m\u001b[0;34m.\u001b[0m\u001b[0mread_csv\u001b[0m\u001b[0;34m(\u001b[0m\u001b[0;34m\"Task4a_data.csv\"\u001b[0m\u001b[0;34m)\u001b[0m\u001b[0;34m\u001b[0m\u001b[0;34m\u001b[0m\u001b[0m\n\u001b[0m\u001b[1;32m      2\u001b[0m \u001b[0msales_columns_columns\u001b[0m \u001b[0;34m=\u001b[0m \u001b[0;34m[\u001b[0m\u001b[0;34m\"Tickets\"\u001b[0m\u001b[0;34m,\u001b[0m \u001b[0;34m\"Gift Shop\"\u001b[0m\u001b[0;34m,\u001b[0m \u001b[0;34m\"Snack Stand\"\u001b[0m\u001b[0;34m,\u001b[0m \u001b[0;34m\"Pictures\"\u001b[0m \u001b[0;34m]\u001b[0m\u001b[0;34m\u001b[0m\u001b[0;34m\u001b[0m\u001b[0m\n\u001b[1;32m      3\u001b[0m \u001b[0;34m\u001b[0m\u001b[0m\n\u001b[1;32m      4\u001b[0m \u001b[0mdf_cash\u001b[0m \u001b[0;34m=\u001b[0m \u001b[0mdf\u001b[0m\u001b[0;34m.\u001b[0m\u001b[0mloc\u001b[0m\u001b[0;34m[\u001b[0m\u001b[0;34m'Pay Type'\u001b[0m \u001b[0;34m==\u001b[0m \u001b[0;34m'Cash'\u001b[0m\u001b[0;34m,\u001b[0m \u001b[0msales_columns\u001b[0m\u001b[0;34m]\u001b[0m\u001b[0;34m.\u001b[0m\u001b[0msum\u001b[0m\u001b[0;34m(\u001b[0m\u001b[0;34m)\u001b[0m\u001b[0;34m.\u001b[0m\u001b[0msum\u001b[0m\u001b[0;34m(\u001b[0m\u001b[0;34m)\u001b[0m\u001b[0;34m\u001b[0m\u001b[0;34m\u001b[0m\u001b[0m\n\u001b[1;32m      5\u001b[0m \u001b[0mdf_card\u001b[0m \u001b[0;34m=\u001b[0m \u001b[0mdf\u001b[0m\u001b[0;34m.\u001b[0m\u001b[0mloc\u001b[0m\u001b[0;34m[\u001b[0m\u001b[0;34m'Pay Type'\u001b[0m \u001b[0;34m==\u001b[0m \u001b[0;34m'Card'\u001b[0m\u001b[0;34m,\u001b[0m \u001b[0msales_columns\u001b[0m\u001b[0;34m]\u001b[0m\u001b[0;34m.\u001b[0m\u001b[0msum\u001b[0m\u001b[0;34m(\u001b[0m\u001b[0;34m)\u001b[0m\u001b[0;34m.\u001b[0m\u001b[0msum\u001b[0m\u001b[0;34m(\u001b[0m\u001b[0;34m)\u001b[0m\u001b[0;34m\u001b[0m\u001b[0;34m\u001b[0m\u001b[0m\n",
            "\u001b[0;31mNameError\u001b[0m: name 'pd' is not defined"
          ]
        }
      ],
      "source": [
        "    import pandas as pd\n",
        "    from matplotlib import pyplot as plt\n",
        "\n",
        "    df = pd.read_csv(\"Task4a_data.csv\")\n",
        "    sales_columns_columns = [\"Tickets\", \"Gift Shop\", \"Snack Stand\", \"Pictures\" ]\n",
        "\n",
        "    df_cash = df.loc['Pay Type' == 'Cash', sales_columns].sum().sum()\n",
        "    df_card = df.loc['Pay Type' == 'Card', sales_columns].sum().sum()\n",
        "\n",
        "    print(df_cash)\n",
        "    print(df_card)\n",
        "    payment_type = [\"Cash\", \"Card\"]\n",
        "\n",
        "    plt.bar(df_cash, df_card)\n",
        "    plt.legend(\"Cash sales\", \"Card sales\")\n"
      ]
    }
  ]
}